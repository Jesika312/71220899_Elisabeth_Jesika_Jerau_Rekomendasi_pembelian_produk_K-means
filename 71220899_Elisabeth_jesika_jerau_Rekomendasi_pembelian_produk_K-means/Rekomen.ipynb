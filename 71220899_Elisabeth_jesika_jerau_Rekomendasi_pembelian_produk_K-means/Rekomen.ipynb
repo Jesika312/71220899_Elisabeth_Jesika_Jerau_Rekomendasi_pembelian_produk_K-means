{
 "cells": [
  {
   "cell_type": "raw",
   "id": "2d2caedd-bd7c-4fe5-8f7d-c075e7919973",
   "metadata": {},
   "source": [
    "Rekomendasi Produk\n"
   ]
  },
  {
   "cell_type": "raw",
   "id": "c8cfee6e-e951-4afb-a2fe-bfa5593a8422",
   "metadata": {},
   "source": [
    "Impor pustaka a (libraries) yang akan digunakan untuk analisis data dan visualisasi.\n",
    "\n",
    "Pandas adalah pustaka Python yang menyediakan struktur data dan alat analisis data yang kuat dan fleksibel.\n",
    "\n",
    "NumPy adalah pustaka Python yang digunakan untuk operasi numerik dan array multidimensi.\n",
    "Matplotlib adalah pustaka Python yang digunakan untuk membuat visualisasi data. pyplot adalah modul dalam matplotlib yang menyediakan fungsi untuk membuat berbagai jenis plot.\n",
    "\n",
    "Seaborn adalah pustaka Python yang dibangun di atas matplotlib dan menyediakan antarmuka tingkat tinggi untuk membuat plot statistik yang menarik. "
   ]
  },
  {
   "cell_type": "code",
   "execution_count": 47,
   "id": "1fe4abb6-3971-4bc8-b354-b3ab676dabef",
   "metadata": {},
   "outputs": [],
   "source": [
    "import pandas as pd\n",
    "import numpy as np\n",
    "import matplotlib.pyplot as plt\n",
    "import seaborn as sns\n"
   ]
  },
  {
   "cell_type": "raw",
   "id": "d9098592-7d63-44fe-88dd-8591e77d0600",
   "metadata": {},
   "source": [
    "Membaca dataset\n",
    "Kode berikut bertujuan untuk membaca data dari file CSV dan menyimpannya dalam sebuah DataFrame pandas dan memberi header pada setiap kolom."
   ]
  },
  {
   "cell_type": "code",
   "execution_count": 3,
   "id": "f0085c4b-4acb-4271-be50-5ffd6f74468c",
   "metadata": {},
   "outputs": [],
   "source": [
    "kolom = [\"idUser\", \"idProduk\", \"Rating\", \"Waktu\"]\n",
    "dt=pd.read_csv(\"Rekomen.csv\", names=kolom)"
   ]
  },
  {
   "cell_type": "raw",
   "id": "443b0086-8a11-48c5-8496-725a1da8c7b4",
   "metadata": {},
   "source": [
    "memerkisa isi dari data set dan header tiap kolom"
   ]
  },
  {
   "cell_type": "code",
   "execution_count": 4,
   "id": "371c63ab-cf51-4880-8ac4-cc091d11c8f0",
   "metadata": {},
   "outputs": [
    {
     "name": "stdout",
     "output_type": "stream",
     "text": [
      "DataFrame dt:\n",
      "           idUser    idProduk  Rating       Waktu\n",
      "0   AKM1MP6P0OYPR  0132793040     5.0  1365811200\n",
      "1  A2CX7LUOHB2NDG  0321732944     5.0  1341100800\n",
      "2  A2NWSAGRHCP8N5  0439886341     1.0  1367193600\n",
      "3  A2WNBOD3WNDNKT  0439886341     3.0  1374451200\n",
      "4  A1GI0U4ZRJA8WN  0439886341     1.0  1334707200\n"
     ]
    }
   ],
   "source": [
    "print(\"DataFrame dt:\")\n",
    "print(dt.head())"
   ]
  },
  {
   "cell_type": "raw",
   "id": "439ae58e-f731-45ff-8753-cad2bb79bff1",
   "metadata": {},
   "source": [
    "ubah data wajtu dari datestamp ke data waktu ke datetime."
   ]
  },
  {
   "cell_type": "markdown",
   "id": "3301468b-556a-49c1-bcb4-fee353933609",
   "metadata": {},
   "source": [
    "dt['Waktu'] = pd.to_datetime(dt['Waktu'], unit='s')"
   ]
  },
  {
   "cell_type": "raw",
   "id": "0327d087-2eb7-4f64-a43f-09aa6075751b",
   "metadata": {},
   "source": [
    "periksa data datetime pada dataset."
   ]
  },
  {
   "cell_type": "code",
   "execution_count": 5,
   "id": "f9f9970b-e914-4845-9355-bc2e10936984",
   "metadata": {},
   "outputs": [
    {
     "name": "stdout",
     "output_type": "stream",
     "text": [
      "           idUser    idProduk  Rating       Waktu\n",
      "0   AKM1MP6P0OYPR  0132793040     5.0  1365811200\n",
      "1  A2CX7LUOHB2NDG  0321732944     5.0  1341100800\n",
      "2  A2NWSAGRHCP8N5  0439886341     1.0  1367193600\n",
      "3  A2WNBOD3WNDNKT  0439886341     3.0  1374451200\n",
      "4  A1GI0U4ZRJA8WN  0439886341     1.0  1334707200\n"
     ]
    }
   ],
   "source": [
    "print(dt.head())"
   ]
  },
  {
   "cell_type": "raw",
   "id": "1b757b70-c5a2-4949-941a-0ef3a649a026",
   "metadata": {},
   "source": [
    "memeriksa besar dataset dalam bentuk jumlah kolom dan baris."
   ]
  },
  {
   "cell_type": "code",
   "execution_count": 7,
   "id": "2732dcb0-8fb0-4643-a0df-1b7a1157d8d7",
   "metadata": {},
   "outputs": [
    {
     "data": {
      "text/plain": [
       "(7824482, 4)"
      ]
     },
     "execution_count": 7,
     "metadata": {},
     "output_type": "execute_result"
    }
   ],
   "source": [
    "dt.shape\n"
   ]
  },
  {
   "cell_type": "raw",
   "id": "88452815-6903-4aab-8045-989ba2bc4450",
   "metadata": {},
   "source": [
    "CLEANING DATA"
   ]
  },
  {
   "cell_type": "raw",
   "id": "bc92c810-7e9b-4d46-bf3a-b92d9ae5169e",
   "metadata": {},
   "source": [
    "membersihkan DataFrame dt dari baris-baris yang memiliki nilai-nilai null."
   ]
  },
  {
   "cell_type": "code",
   "execution_count": 8,
   "id": "643bc3ce-0dc5-4c26-98fc-010ad214d20e",
   "metadata": {},
   "outputs": [
    {
     "name": "stdout",
     "output_type": "stream",
     "text": [
      "           idUser    idProduk  Rating       Waktu\n",
      "0   AKM1MP6P0OYPR  0132793040     5.0  1365811200\n",
      "1  A2CX7LUOHB2NDG  0321732944     5.0  1341100800\n",
      "2  A2NWSAGRHCP8N5  0439886341     1.0  1367193600\n",
      "3  A2WNBOD3WNDNKT  0439886341     3.0  1374451200\n",
      "4  A1GI0U4ZRJA8WN  0439886341     1.0  1334707200\n"
     ]
    }
   ],
   "source": [
    "dt_cleaned = dt.dropna()\n",
    "print(dt_cleaned.head())"
   ]
  },
  {
   "cell_type": "code",
   "execution_count": 16,
   "id": "1a1ac300-f45e-47a7-b85e-fc431cae8240",
   "metadata": {},
   "outputs": [],
   "source": [
    "mengecek apakah masih ada data yang null dalam dataset."
   ]
  },
  {
   "cell_type": "raw",
   "id": "4f27e59d-32fd-4956-8ef4-3b5f7b6dead5",
   "metadata": {},
   "source": [
    "dt.isnull().values.any()"
   ]
  },
  {
   "cell_type": "markdown",
   "id": "94c95563-975e-472a-9580-d764b92ec144",
   "metadata": {},
   "source": [
    "Mengecek data kosong"
   ]
  },
  {
   "cell_type": "code",
   "execution_count": 11,
   "id": "873d4a96-1f26-48dd-97b9-7c2f52605c8a",
   "metadata": {},
   "outputs": [
    {
     "data": {
      "text/plain": [
       "idUser      0\n",
       "idProduk    0\n",
       "Rating      0\n",
       "Waktu       0\n",
       "dtype: int64"
      ]
     },
     "execution_count": 11,
     "metadata": {},
     "output_type": "execute_result"
    }
   ],
   "source": [
    "dt.isnull().sum()"
   ]
  },
  {
   "cell_type": "code",
   "execution_count": null,
   "id": "8b68382a-3d22-4fdd-81ba-34090de82bd7",
   "metadata": {},
   "outputs": [],
   "source": [
    "Tampilkan Distribusi data rating"
   ]
  },
  {
   "cell_type": "code",
   "execution_count": 9,
   "id": "41389662-6c89-402f-a897-2964b85555a1",
   "metadata": {},
   "outputs": [
    {
     "data": {
      "text/plain": [
       "<Axes: xlabel='Rating', ylabel='Count'>"
      ]
     },
     "execution_count": 9,
     "metadata": {},
     "output_type": "execute_result"
    },
    {
     "data": {
      "image/png": "[encoded data removed]",
      "text/plain": [
       "<Figure size 640x480 with 1 Axes>"
      ]
     },
     "metadata": {},
     "output_type": "display_data"
    }
   ],
   "source": [
    "sns.histplot(dt[\"Rating\"],kde=False)"
   ]
  },
  {
   "cell_type": "code",
   "execution_count": null,
   "id": "3a9f854e-1b47-4714-8ccf-f4181e9c39d6",
   "metadata": {},
   "outputs": [],
   "source": [
    "cek data jumlah idUser yang muncul"
   ]
  },
  {
   "cell_type": "code",
   "execution_count": 13,
   "id": "e0d03d8f-b166-469b-863f-dcf46f899c71",
   "metadata": {},
   "outputs": [
    {
     "name": "stdout",
     "output_type": "stream",
     "text": [
      "<bound method Series.info of idUser\n",
      "A5JLAU2ARJ0BO     520\n",
      "ADLVFFE4VBT8      501\n",
      "A3OXHLG6DIBRW8    498\n",
      "A6FIAB28IS79      431\n",
      "A680RUE1FDO8B     406\n",
      "                 ... \n",
      "A1IUWX30VMVJGP      1\n",
      "A1WBP7XSZI6AUL      1\n",
      "A2K7UNJHE9ZR0G      1\n",
      "A1A6SIW6EWF6FP      1\n",
      "A10M2KEFPEQDHN      1\n",
      "Name: count, Length: 4201696, dtype: int64>\n"
     ]
    }
   ],
   "source": [
    "dt1=dt[\"idUser\"].value_counts()\n",
    "print(dt1.info)"
   ]
  },
  {
   "cell_type": "code",
   "execution_count": 71,
   "id": "e8c1653f-ff89-45bd-bf11-1b3ed65ddfc5",
   "metadata": {},
   "outputs": [
    {
     "name": "stdout",
     "output_type": "stream",
     "text": [
      "              idUser    idProduk  Rating       Waktu\n",
      "0      ASJ5073GPUBTT  B00EPKSVRA     4.0  1405987200\n",
      "1     A24JD5QEY22A7D  B000OH63MI     3.0  1202515200\n",
      "2     A1UMI3D3SGG64F  B0012J52OC     5.0  1355443200\n",
      "3     A2V4GFKI8KD8N5  B0012X5766     5.0  1235433600\n",
      "4     A214NOONL728JH  B000VY2BC0     4.0  1215907200\n",
      "...              ...         ...     ...         ...\n",
      "1560  A36UGN8H4QCWTZ  B005DKZTMG     5.0  1391990400\n",
      "1561  A2Q6LX5M21STUW  B0083Q3NO8     5.0  1344816000\n",
      "1562  A17X8YPQGBIHU5  B007Q9BZQ6     1.0  1362960000\n",
      "1563   ARD0BL0ACIW49  B003CJTR8M     5.0  1391212800\n",
      "1564   A4L08PV1YJH83  B003J8PCL2     5.0  1362528000\n",
      "\n",
      "[1565 rows x 4 columns]\n"
     ]
    }
   ],
   "source": [
    "sample = dt.sample(frac=0.01, random_state=42)\n",
    "sample.reset_index(drop=True, inplace=True)\n",
    "print(sample)"
   ]
  },
  {
   "cell_type": "code",
   "execution_count": 72,
   "id": "11dd346c-67d2-49c2-af52-cbac37113a45",
   "metadata": {},
   "outputs": [],
   "source": [
    "dt = sample"
   ]
  },
  {
   "cell_type": "code",
   "execution_count": 73,
   "id": "1123ed28-ea1b-43a1-bfca-14f4d957cd7f",
   "metadata": {},
   "outputs": [
    {
     "data": {
      "text/plain": [
       "(1565, 4)"
      ]
     },
     "execution_count": 73,
     "metadata": {},
     "output_type": "execute_result"
    }
   ],
   "source": [
    "dt.shape"
   ]
  },
  {
   "cell_type": "code",
   "execution_count": null,
   "id": "af5d59a0-5e70-43b5-b546-5a7914678e5f",
   "metadata": {},
   "outputs": [],
   "source": [
    "cek rata rata rating  dari setiap user"
   ]
  },
  {
   "cell_type": "code",
   "execution_count": 27,
   "id": "1b2d4e1b-1479-4780-b97f-ea760d506bee",
   "metadata": {},
   "outputs": [
    {
     "data": {
      "text/plain": [
       "idProduk\n",
       "0594481813    5.000000\n",
       "0972683275    4.384615\n",
       "0594033926    4.000000\n",
       "0970408005    3.000000\n",
       "0439886341    1.000000\n",
       "Name: Rating, dtype: float64"
      ]
     },
     "execution_count": 27,
     "metadata": {},
     "output_type": "execute_result"
    }
   ],
   "source": [
    "dt.groupby('idProduk')['Rating'].mean().head().sort_values(ascending=False).head()  "
   ]
  },
  {
   "cell_type": "raw",
   "id": "cde52837-c5d4-4e8f-b48e-a65a2ffed541",
   "metadata": {},
   "source": []
  },
  {
   "cell_type": "code",
   "execution_count": 29,
   "id": "4337bce8-4f80-411f-a0d6-bb9121727d92",
   "metadata": {},
   "outputs": [
    {
     "data": {
      "text/plain": [
       "idProduk\n",
       "B0074BW614    387\n",
       "B00DR0PDNE    325\n",
       "B007WTAJTO    297\n",
       "B003ELYQGG    241\n",
       "B0019EHU8G    240\n",
       "Name: Rating, dtype: int64"
      ]
     },
     "execution_count": 29,
     "metadata": {},
     "output_type": "execute_result"
    }
   ],
   "source": [
    "dt.groupby('idProduk')['Rating'].count().sort_values(ascending=False).head() "
   ]
  },
  {
   "cell_type": "code",
   "execution_count": 33,
   "id": "f5b8e618-f4e2-4768-a15d-f79ce25c438b",
   "metadata": {},
   "outputs": [],
   "source": [
    "mean_rating['count'] = pd.DataFrame(dt.groupby('idProduk')['Rating'].mean()) "
   ]
  },
  {
   "cell_type": "code",
   "execution_count": 34,
   "id": "b4c6107d-3ccf-4f68-a32c-0935edf98ba5",
   "metadata": {},
   "outputs": [
    {
     "data": {
      "text/html": [
       "<div>\n",
       "<style scoped>\n",
       "    .dataframe tbody tr th:only-of-type {\n",
       "        vertical-align: middle;\n",
       "    }\n",
       "\n",
       "    .dataframe tbody tr th {\n",
       "        vertical-align: top;\n",
       "    }\n",
       "\n",
       "    .dataframe thead th {\n",
       "        text-align: right;\n",
       "    }\n",
       "</style>\n",
       "<table border=\"1\" class=\"dataframe\">\n",
       "  <thead>\n",
       "    <tr style=\"text-align: right;\">\n",
       "      <th></th>\n",
       "      <th>Rating</th>\n",
       "      <th>count</th>\n",
       "    </tr>\n",
       "    <tr>\n",
       "      <th>idProduk</th>\n",
       "      <th></th>\n",
       "      <th></th>\n",
       "    </tr>\n",
       "  </thead>\n",
       "  <tbody>\n",
       "    <tr>\n",
       "      <th>0439886341</th>\n",
       "      <td>1.000000</td>\n",
       "      <td>1.000000</td>\n",
       "    </tr>\n",
       "    <tr>\n",
       "      <th>0594033926</th>\n",
       "      <td>4.000000</td>\n",
       "      <td>4.000000</td>\n",
       "    </tr>\n",
       "    <tr>\n",
       "      <th>0594481813</th>\n",
       "      <td>5.000000</td>\n",
       "      <td>5.000000</td>\n",
       "    </tr>\n",
       "    <tr>\n",
       "      <th>0970408005</th>\n",
       "      <td>3.000000</td>\n",
       "      <td>3.000000</td>\n",
       "    </tr>\n",
       "    <tr>\n",
       "      <th>0972683275</th>\n",
       "      <td>4.384615</td>\n",
       "      <td>4.384615</td>\n",
       "    </tr>\n",
       "  </tbody>\n",
       "</table>\n",
       "</div>"
      ],
      "text/plain": [
       "              Rating     count\n",
       "idProduk                      \n",
       "0439886341  1.000000  1.000000\n",
       "0594033926  4.000000  4.000000\n",
       "0594481813  5.000000  5.000000\n",
       "0970408005  3.000000  3.000000\n",
       "0972683275  4.384615  4.384615"
      ]
     },
     "execution_count": 34,
     "metadata": {},
     "output_type": "execute_result"
    }
   ],
   "source": [
    "\n",
    "mean_rating.head()"
   ]
  },
  {
   "cell_type": "code",
   "execution_count": 39,
   "id": "e575658f-dbaa-4a83-ac54-86d368eadbf3",
   "metadata": {},
   "outputs": [
    {
     "name": "stdout",
     "output_type": "stream",
     "text": [
      "<class 'pandas.core.frame.DataFrame'>\n",
      "RangeIndex: 156490 entries, 0 to 156489\n",
      "Data columns (total 4 columns):\n",
      " #   Column    Non-Null Count   Dtype  \n",
      "---  ------    --------------   -----  \n",
      " 0   idUser    156490 non-null  object \n",
      " 1   idProduk  156490 non-null  object \n",
      " 2   Rating    156490 non-null  float64\n",
      " 3   Waktu     156490 non-null  int64  \n",
      "dtypes: float64(1), int64(1), object(2)\n",
      "memory usage: 4.8+ MB\n"
     ]
    }
   ],
   "source": [
    "Distribusi data"
   ]
  },
  {
   "cell_type": "code",
   "execution_count": null,
   "id": "9f4d89c2-7020-47cb-917a-c61d2bba165c",
   "metadata": {},
   "outputs": [],
   "source": [
    "\n",
    "\n",
    "# Plotting histogram\n",
    "plt.hist(dt['idUser'], bins=10, color='skyblue', edgecolor='black')\n",
    "plt.xlabel('idUser')\n",
    "plt.ylabel('Frequency')\n",
    "plt.title('Distribution of Ratings')\n",
    "plt.show()\n",
    "\n"
   ]
  },
  {
   "cell_type": "code",
   "execution_count": null,
   "id": "b2aca478-ae9c-4ad4-b79d-058f39228ec6",
   "metadata": {},
   "outputs": [],
   "source": [
    "Spliting data"
   ]
  },
  {
   "cell_type": "code",
   "execution_count": 63,
   "id": "1754f06f-0c03-4709-a8c5-deca50464102",
   "metadata": {},
   "outputs": [],
   "source": [
    "from surprise.model_selection import train_test_split\n",
    "trainset, testset = train_test_split(data, test_size=.25,random_state=123)"
   ]
  },
  {
   "cell_type": "code",
   "execution_count": 64,
   "id": "96f4f888-e38a-4fab-8881-6cc7e44287b6",
   "metadata": {},
   "outputs": [
    {
     "data": {
      "text/plain": [
       "<generator object Trainset.all_ratings at 0x000002464759F340>"
      ]
     },
     "execution_count": 64,
     "metadata": {},
     "output_type": "execute_result"
    }
   ],
   "source": [
    "trainset.all_ratings()"
   ]
  },
  {
   "cell_type": "code",
   "execution_count": 65,
   "id": "9e8fa996-1cc6-4a05-bbce-c27ac64b3e8f",
   "metadata": {},
   "outputs": [
    {
     "name": "stdout",
     "output_type": "stream",
     "text": [
      "A2KPB67P7YNRJH\n",
      "B000IZ7BDG\n"
     ]
    }
   ],
   "source": [
    "print(trainset.to_raw_uid(0))\n",
    "print(trainset.to_raw_iid(0))"
   ]
  },
  {
   "cell_type": "code",
   "execution_count": 66,
   "id": "cc29ac60-2de1-483e-b33e-6b2a4aacd2d9",
   "metadata": {},
   "outputs": [],
   "source": [
    "from surprise import SVD, KNNWithMeans\n",
    "from surprise import accuracy"
   ]
  },
  {
   "cell_type": "code",
   "execution_count": 67,
   "id": "9f7c0bf4-a9e5-42fb-9bea-f0fa7c5acfd9",
   "metadata": {},
   "outputs": [
    {
     "data": {
      "text/plain": [
       "<surprise.prediction_algorithms.matrix_factorization.SVD at 0x2464a1c1210>"
      ]
     },
     "execution_count": 67,
     "metadata": {},
     "output_type": "execute_result"
    }
   ],
   "source": [
    "svd_model = SVD(n_factors=5,biased=False)\n",
    "svd_model.fit(trainset)"
   ]
  },
  {
   "cell_type": "code",
   "execution_count": 68,
   "id": "e83991b7-cdd0-45b5-bd4d-6e0a9cfa55ae",
   "metadata": {},
   "outputs": [],
   "source": [
    "test_pred = svd_model.test(testset)"
   ]
  },
  {
   "cell_type": "code",
   "execution_count": 69,
   "id": "1fd7e994-81e5-4518-8e2b-1038a5f42764",
   "metadata": {},
   "outputs": [
    {
     "name": "stdout",
     "output_type": "stream",
     "text": [
      "RMSE: 1.5284\n"
     ]
    },
    {
     "data": {
      "text/plain": [
       "1.5284092865891878"
      ]
     },
     "execution_count": 69,
     "metadata": {},
     "output_type": "execute_result"
    }
   ],
   "source": [
    "accuracy.rmse(test_pred)"
   ]
  },
  {
   "cell_type": "raw",
   "id": "a87044e0-538c-4947-bef6-f76b8cfcba60",
   "metadata": {},
   "source": [
    "Buat matriks interaksi antara produk dan pengguna berdasarkan rating yang diberikan, serta menghitung densitas dari rating tersebut. Berikut adalah penjelasan rinci tentang setiap bagian dari kode tersebut:"
   ]
  },
  {
   "cell_type": "code",
   "execution_count": null,
   "id": "5d43fda3-c166-4392-ab6a-e8d6f57c349c",
   "metadata": {},
   "outputs": [],
   "source": [
    "from surprise import KNNWithMeans\n",
    "from surprise import accuracy\n",
    "\n",
    "algo_i = KNNWithMeans(k=5, sim_options={ 'user_based': False})\n",
    "\n",
    "algo_i.fit(trainset)"
   ]
  },
  {
   "cell_type": "code",
   "execution_count": 50,
   "id": "ca61f443-772b-485d-b043-d55ebf1f7157",
   "metadata": {},
   "outputs": [],
   "source": []
  },
  {
   "cell_type": "code",
   "execution_count": 43,
   "id": "84d99044-2fa9-4ae1-ac34-bba393cc8ca5",
   "metadata": {},
   "outputs": [
    {
     "data": {
      "text/html": [
       "<div>\n",
       "<style scoped>\n",
       "    .dataframe tbody tr th:only-of-type {\n",
       "        vertical-align: middle;\n",
       "    }\n",
       "\n",
       "    .dataframe tbody tr th {\n",
       "        vertical-align: top;\n",
       "    }\n",
       "\n",
       "    .dataframe thead th {\n",
       "        text-align: right;\n",
       "    }\n",
       "</style>\n",
       "<table border=\"1\" class=\"dataframe\">\n",
       "  <thead>\n",
       "    <tr style=\"text-align: right;\">\n",
       "      <th></th>\n",
       "      <th>idUser</th>\n",
       "      <th>idProduk</th>\n",
       "      <th>Rating</th>\n",
       "      <th>Waktu</th>\n",
       "    </tr>\n",
       "  </thead>\n",
       "  <tbody>\n",
       "    <tr>\n",
       "      <th>0</th>\n",
       "      <td>A1Z3YJF1S8Z1M3</td>\n",
       "      <td>B000M9ISQ2</td>\n",
       "      <td>5.0</td>\n",
       "      <td>1199750400</td>\n",
       "    </tr>\n",
       "    <tr>\n",
       "      <th>1</th>\n",
       "      <td>ALDXDYEGKB27G</td>\n",
       "      <td>B002L6HE9G</td>\n",
       "      <td>4.0</td>\n",
       "      <td>1331337600</td>\n",
       "    </tr>\n",
       "  </tbody>\n",
       "</table>\n",
       "</div>"
      ],
      "text/plain": [
       "           idUser    idProduk  Rating       Waktu\n",
       "0  A1Z3YJF1S8Z1M3  B000M9ISQ2     5.0  1199750400\n",
       "1   ALDXDYEGKB27G  B002L6HE9G     4.0  1331337600"
      ]
     },
     "execution_count": 43,
     "metadata": {},
     "output_type": "execute_result"
    }
   ],
   "source": [
    "dt.head(2)"
   ]
  },
  {
   "cell_type": "code",
   "execution_count": 75,
   "id": "0047e1f1-9df0-4d7b-94e2-44f404c06cf0",
   "metadata": {},
   "outputs": [],
   "source": [
    "data = Dataset.load_from_df(dt[['idUser', 'idProduk', 'Rating']], baca)"
   ]
  },
  {
   "cell_type": "raw",
   "id": "dbc98e72-6186-47ee-a696-bec1a7f11924",
   "metadata": {},
   "source": [
    "Splitting the data randomly into a train and test dataset."
   ]
  },
  {
   "cell_type": "code",
   "execution_count": 76,
   "id": "d97e44a9-2c28-4d80-958e-6b4a597e85f2",
   "metadata": {},
   "outputs": [],
   "source": [
    "from surprise.model_selection import train_test_split\n",
    "trainset, testset = train_test_split(data, test_size=.25,random_state=123)"
   ]
  },
  {
   "cell_type": "code",
   "execution_count": 77,
   "id": "8a4db2da-a886-4deb-94f9-9b1f8670b1a2",
   "metadata": {},
   "outputs": [
    {
     "data": {
      "text/plain": [
       "<generator object Trainset.all_ratings at 0x000002464759F540>"
      ]
     },
     "execution_count": 77,
     "metadata": {},
     "output_type": "execute_result"
    }
   ],
   "source": [
    "trainset.all_ratings()"
   ]
  },
  {
   "cell_type": "code",
   "execution_count": 78,
   "id": "fd3e86c9-a5fb-4ef1-86cc-41d4e72f115c",
   "metadata": {},
   "outputs": [
    {
     "name": "stdout",
     "output_type": "stream",
     "text": [
      "AE0B60JTS5MA1\n",
      "B00C5PUFDA\n"
     ]
    }
   ],
   "source": [
    "print(trainset.to_raw_uid(0))\n",
    "print(trainset.to_raw_iid(0))"
   ]
  },
  {
   "cell_type": "code",
   "execution_count": 79,
   "id": "85cdf1d1-b96a-46c1-b797-87fee69d2bf7",
   "metadata": {},
   "outputs": [],
   "source": [
    "from surprise import SVD, KNNWithMeans\n",
    "from surprise import accuracy"
   ]
  },
  {
   "cell_type": "code",
   "execution_count": 80,
   "id": "f4561106-d8e5-4458-aae3-d65c3f3c97aa",
   "metadata": {},
   "outputs": [
    {
     "data": {
      "text/plain": [
       "<surprise.prediction_algorithms.matrix_factorization.SVD at 0x24645111f10>"
      ]
     },
     "execution_count": 80,
     "metadata": {},
     "output_type": "execute_result"
    }
   ],
   "source": [
    "svd_model = SVD(n_factors=5,biased=False)\n",
    "svd_model.fit(trainset)"
   ]
  },
  {
   "cell_type": "code",
   "execution_count": 81,
   "id": "af7fa17b-9832-4ebc-ac2a-08effe38ed25",
   "metadata": {},
   "outputs": [],
   "source": [
    "test_pred = svd_model.test(testset)"
   ]
  },
  {
   "cell_type": "code",
   "execution_count": 82,
   "id": "30320f5a-2d0d-420e-91cd-20ae9b65d5a2",
   "metadata": {},
   "outputs": [
    {
     "name": "stdout",
     "output_type": "stream",
     "text": [
      "RMSE: 1.4531\n"
     ]
    },
    {
     "data": {
      "text/plain": [
       "1.4531077892096789"
      ]
     },
     "execution_count": 82,
     "metadata": {},
     "output_type": "execute_result"
    }
   ],
   "source": [
    "accuracy.rmse(test_pred)"
   ]
  },
  {
   "cell_type": "code",
   "execution_count": 83,
   "id": "9882145a-8d7f-4e59-818c-e1eeea338a53",
   "metadata": {},
   "outputs": [
    {
     "name": "stdout",
     "output_type": "stream",
     "text": [
      "Computing the msd similarity matrix...\n",
      "Done computing similarity matrix.\n"
     ]
    },
    {
     "data": {
      "text/plain": [
       "<surprise.prediction_algorithms.knns.KNNWithMeans at 0x24640c520d0>"
      ]
     },
     "execution_count": 83,
     "metadata": {},
     "output_type": "execute_result"
    }
   ],
   "source": [
    "from surprise import KNNWithMeans\n",
    "from surprise import accuracy\n",
    "\n",
    "algo_i = KNNWithMeans(k=5, sim_options={ 'user_based': False})\n",
    "\n",
    "algo_i.fit(trainset)"
   ]
  },
  {
   "cell_type": "raw",
   "id": "57d02fa3-43d8-4d51-926a-bc0081678cd0",
   "metadata": {},
   "source": [
    "Evaluasi model menggunakan KNN dengan Kmeans"
   ]
  },
  {
   "cell_type": "code",
   "execution_count": 84,
   "id": "f5c247db-d33e-49ca-87ab-b7e69eb12f20",
   "metadata": {},
   "outputs": [
    {
     "name": "stdout",
     "output_type": "stream",
     "text": [
      "RMSE: 1.4531\n",
      "1.4531077892096789\n"
     ]
    }
   ],
   "source": [
    "test_pred=algo_i.test(testset)\n",
    "print(accuracy.rmse(test_pred))"
   ]
  },
  {
   "cell_type": "code",
   "execution_count": 106,
   "id": "0c1b55e8-0a81-4ecc-a4d0-caa569a736c1",
   "metadata": {},
   "outputs": [
    {
     "name": "stdout",
     "output_type": "stream",
     "text": [
      "user: A24JD5QEY22A7D item: B0012X5766 r_ui = 0.00   est = 4.06   {'was_impossible': True, 'reason': 'User and/or item is unknown.'}\n"
     ]
    }
   ],
   "source": [
    "uid=\"A24JD5QEY22A7D\"\n",
    "iid=\"B0012X5766\"\n",
    "pred = algo_i.predict(uid, iid, r_ui=0.0, verbose=True)"
   ]
  },
  {
   "cell_type": "code",
   "execution_count": 110,
   "id": "57c16acc-1c6c-4f3e-a357-30f0a55ab848",
   "metadata": {},
   "outputs": [
    {
     "data": {
      "text/html": [
       "<div>\n",
       "<style scoped>\n",
       "    .dataframe tbody tr th:only-of-type {\n",
       "        vertical-align: middle;\n",
       "    }\n",
       "\n",
       "    .dataframe tbody tr th {\n",
       "        vertical-align: top;\n",
       "    }\n",
       "\n",
       "    .dataframe thead th {\n",
       "        text-align: right;\n",
       "    }\n",
       "</style>\n",
       "<table border=\"1\" class=\"dataframe\">\n",
       "  <thead>\n",
       "    <tr style=\"text-align: right;\">\n",
       "      <th></th>\n",
       "      <th>iid</th>\n",
       "      <th>r_ui</th>\n",
       "      <th>est</th>\n",
       "    </tr>\n",
       "  </thead>\n",
       "  <tbody>\n",
       "  </tbody>\n",
       "</table>\n",
       "</div>"
      ],
      "text/plain": [
       "Empty DataFrame\n",
       "Columns: [iid, r_ui, est]\n",
       "Index: []"
      ]
     },
     "execution_count": 110,
     "metadata": {},
     "output_type": "execute_result"
    }
   ],
   "source": [
    "pred = pd.DataFrame(test_pred)\n",
    "pred[pred['uid'] == \"B0012X5766\" ][['iid', 'r_ui','est']].sort_values(by = 'r_ui',ascending = False).head(5)"
   ]
  },
  {
   "cell_type": "code",
   "execution_count": null,
   "id": "b597f5b9-72f3-4d3f-b883-7fcc8029dbab",
   "metadata": {},
   "outputs": [],
   "source": []
  }
 ],
 "metadata": {
  "kernelspec": {
   "display_name": "Python 3 (ipykernel)",
   "language": "python",
   "name": "python3"
  },
  "language_info": {
   "codemirror_mode": {
    "name": "ipython",
    "version": 3
   },
   "file_extension": ".py",
   "mimetype": "text/x-python",
   "name": "python",
   "nbconvert_exporter": "python",
   "pygments_lexer": "ipython3",
   "version": "3.11.1"
  }
 },
 "nbformat": 4,
 "nbformat_minor": 5
}
